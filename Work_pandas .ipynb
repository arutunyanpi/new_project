{
 "cells": [
  {
   "cell_type": "markdown",
   "id": "ae803556",
   "metadata": {},
   "source": [
    "# Библиотека pandas основы\n"
   ]
  },
  {
   "cell_type": "code",
   "execution_count": 4,
   "id": "db334d9e",
   "metadata": {},
   "outputs": [
    {
     "data": {
      "text/plain": [
       "<bound method NDFrame.head of        Country         Region\n",
       "0      Algeria         AFRICA\n",
       "1       Angola         AFRICA\n",
       "2        Benin         AFRICA\n",
       "3     Botswana         AFRICA\n",
       "4      Burkina         AFRICA\n",
       "..         ...            ...\n",
       "189   Paraguay  SOUTH AMERICA\n",
       "190       Peru  SOUTH AMERICA\n",
       "191   Suriname  SOUTH AMERICA\n",
       "192    Uruguay  SOUTH AMERICA\n",
       "193  Venezuela  SOUTH AMERICA\n",
       "\n",
       "[194 rows x 2 columns]>"
      ]
     },
     "execution_count": 4,
     "metadata": {},
     "output_type": "execute_result"
    }
   ],
   "source": [
    "import pandas as pd \n",
    "url=\"https://raw.githubusercontent.com/cs109/2014_data/master/countries.csv\"\n",
    "Count=1\n",
    "dataFrame=pd.read_csv(url)\n",
    "dataFrame.head\n",
    "\n",
    "\n"
   ]
  },
  {
   "cell_type": "code",
   "execution_count": null,
   "id": "abe26aa8",
   "metadata": {},
   "outputs": [],
   "source": []
  }
 ],
 "metadata": {
  "kernelspec": {
   "display_name": "Python 3 (ipykernel)",
   "language": "python",
   "name": "python3"
  },
  "language_info": {
   "codemirror_mode": {
    "name": "ipython",
    "version": 3
   },
   "file_extension": ".py",
   "mimetype": "text/x-python",
   "name": "python",
   "nbconvert_exporter": "python",
   "pygments_lexer": "ipython3",
   "version": "3.10.10"
  }
 },
 "nbformat": 4,
 "nbformat_minor": 5
}
